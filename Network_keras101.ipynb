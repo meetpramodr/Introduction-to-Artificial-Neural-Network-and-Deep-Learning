{
  "nbformat": 4,
  "nbformat_minor": 0,
  "metadata": {
    "colab": {
      "name": "Network_keras101.ipynb",
      "version": "0.3.2",
      "provenance": [],
      "include_colab_link": true
    },
    "kernelspec": {
      "name": "python3",
      "display_name": "Python 3"
    }
  },
  "cells": [
    {
      "cell_type": "markdown",
      "metadata": {
        "id": "view-in-github",
        "colab_type": "text"
      },
      "source": [
        "<a href=\"https://colab.research.google.com/github/meetpramodr/Introduction-to-Artificial-Neural-Network-and-Deep-Learning/blob/master/Network_keras101.ipynb\" target=\"_parent\"><img src=\"https://colab.research.google.com/assets/colab-badge.svg\" alt=\"Open In Colab\"/></a>"
      ]
    },
    {
      "cell_type": "code",
      "metadata": {
        "id": "qjJ40Hq5QhF_",
        "colab_type": "code",
        "colab": {}
      },
      "source": [
        "# first neural network with keras tutorial\n",
        "from numpy import loadtxt\n",
        "from keras.models import Sequential\n",
        "from keras.layers import Dense\n",
        "from keras.utils import plot_model"
      ],
      "execution_count": 0,
      "outputs": []
    },
    {
      "cell_type": "code",
      "metadata": {
        "id": "Y-rduVbQQk17",
        "colab_type": "code",
        "outputId": "54fb1d6f-93e0-44f8-e770-7dd916fb20b8",
        "colab": {
          "resources": {
            "http://localhost:8080/nbextensions/google.colab/files.js": {
              "data": "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",
              "ok": true,
              "headers": [
                [
                  "content-type",
                  "application/javascript"
                ]
              ],
              "status": 200,
              "status_text": ""
            }
          },
          "base_uri": "https://localhost:8080/",
          "height": 75
        }
      },
      "source": [
        "from google.colab import files\n",
        "uploaded = files.upload()"
      ],
      "execution_count": 0,
      "outputs": [
        {
          "output_type": "display_data",
          "data": {
            "text/html": [
              "\n",
              "     <input type=\"file\" id=\"files-ac2c75b4-ae8e-49de-9868-7051ea72a776\" name=\"files[]\" multiple disabled />\n",
              "     <output id=\"result-ac2c75b4-ae8e-49de-9868-7051ea72a776\">\n",
              "      Upload widget is only available when the cell has been executed in the\n",
              "      current browser session. Please rerun this cell to enable.\n",
              "      </output>\n",
              "      <script src=\"/nbextensions/google.colab/files.js\"></script> "
            ],
            "text/plain": [
              "<IPython.core.display.HTML object>"
            ]
          },
          "metadata": {
            "tags": []
          }
        },
        {
          "output_type": "stream",
          "text": [
            "Saving pima-indians-diabetes.data.txt to pima-indians-diabetes.data.txt\n"
          ],
          "name": "stdout"
        }
      ]
    },
    {
      "cell_type": "code",
      "metadata": {
        "id": "ipyLiCbpRcVF",
        "colab_type": "code",
        "colab": {}
      },
      "source": [
        "import io\n",
        "import pandas as pd\n",
        "cols = ['Num_times_pregnant','Plasma_glucose_concentration','Diastolic_blood_pressure','Triceps_skin_thickness','serum_insulin','BMI','Diabetes_pedigree_function','Age','Class']\n",
        "df2 = pd.read_csv(io.BytesIO(uploaded['pima-indians-diabetes.data.txt']),names=cols)"
      ],
      "execution_count": 0,
      "outputs": []
    },
    {
      "cell_type": "code",
      "metadata": {
        "id": "fhCcoPSZRnIj",
        "colab_type": "code",
        "outputId": "32ae68fd-e696-4a15-e285-df975ba099ff",
        "colab": {
          "base_uri": "https://localhost:8080/",
          "height": 215
        }
      },
      "source": [
        "df2.head()"
      ],
      "execution_count": 0,
      "outputs": [
        {
          "output_type": "execute_result",
          "data": {
            "text/html": [
              "<div>\n",
              "<style scoped>\n",
              "    .dataframe tbody tr th:only-of-type {\n",
              "        vertical-align: middle;\n",
              "    }\n",
              "\n",
              "    .dataframe tbody tr th {\n",
              "        vertical-align: top;\n",
              "    }\n",
              "\n",
              "    .dataframe thead th {\n",
              "        text-align: right;\n",
              "    }\n",
              "</style>\n",
              "<table border=\"1\" class=\"dataframe\">\n",
              "  <thead>\n",
              "    <tr style=\"text-align: right;\">\n",
              "      <th></th>\n",
              "      <th>Num_times_pregnant</th>\n",
              "      <th>Plasma_glucose_concentration</th>\n",
              "      <th>Diastolic_blood_pressure</th>\n",
              "      <th>Triceps_skin_thickness</th>\n",
              "      <th>serum_insulin</th>\n",
              "      <th>BMI</th>\n",
              "      <th>Diabetes_pedigree_function</th>\n",
              "      <th>Age</th>\n",
              "      <th>Class</th>\n",
              "    </tr>\n",
              "  </thead>\n",
              "  <tbody>\n",
              "    <tr>\n",
              "      <th>0</th>\n",
              "      <td>6</td>\n",
              "      <td>148</td>\n",
              "      <td>72</td>\n",
              "      <td>35</td>\n",
              "      <td>0</td>\n",
              "      <td>33.6</td>\n",
              "      <td>0.627</td>\n",
              "      <td>50</td>\n",
              "      <td>1</td>\n",
              "    </tr>\n",
              "    <tr>\n",
              "      <th>1</th>\n",
              "      <td>1</td>\n",
              "      <td>85</td>\n",
              "      <td>66</td>\n",
              "      <td>29</td>\n",
              "      <td>0</td>\n",
              "      <td>26.6</td>\n",
              "      <td>0.351</td>\n",
              "      <td>31</td>\n",
              "      <td>0</td>\n",
              "    </tr>\n",
              "    <tr>\n",
              "      <th>2</th>\n",
              "      <td>8</td>\n",
              "      <td>183</td>\n",
              "      <td>64</td>\n",
              "      <td>0</td>\n",
              "      <td>0</td>\n",
              "      <td>23.3</td>\n",
              "      <td>0.672</td>\n",
              "      <td>32</td>\n",
              "      <td>1</td>\n",
              "    </tr>\n",
              "    <tr>\n",
              "      <th>3</th>\n",
              "      <td>1</td>\n",
              "      <td>89</td>\n",
              "      <td>66</td>\n",
              "      <td>23</td>\n",
              "      <td>94</td>\n",
              "      <td>28.1</td>\n",
              "      <td>0.167</td>\n",
              "      <td>21</td>\n",
              "      <td>0</td>\n",
              "    </tr>\n",
              "    <tr>\n",
              "      <th>4</th>\n",
              "      <td>0</td>\n",
              "      <td>137</td>\n",
              "      <td>40</td>\n",
              "      <td>35</td>\n",
              "      <td>168</td>\n",
              "      <td>43.1</td>\n",
              "      <td>2.288</td>\n",
              "      <td>33</td>\n",
              "      <td>1</td>\n",
              "    </tr>\n",
              "  </tbody>\n",
              "</table>\n",
              "</div>"
            ],
            "text/plain": [
              "   Num_times_pregnant  Plasma_glucose_concentration  ...  Age  Class\n",
              "0                   6                           148  ...   50      1\n",
              "1                   1                            85  ...   31      0\n",
              "2                   8                           183  ...   32      1\n",
              "3                   1                            89  ...   21      0\n",
              "4                   0                           137  ...   33      1\n",
              "\n",
              "[5 rows x 9 columns]"
            ]
          },
          "metadata": {
            "tags": []
          },
          "execution_count": 11
        }
      ]
    },
    {
      "cell_type": "code",
      "metadata": {
        "id": "g1JgU5PQTHZu",
        "colab_type": "code",
        "colab": {}
      },
      "source": [
        "X = df2[['Num_times_pregnant','Plasma_glucose_concentration','Diastolic_blood_pressure','Triceps_skin_thickness','serum_insulin','BMI','Diabetes_pedigree_function','Age']]\n",
        "y = df2['Class']"
      ],
      "execution_count": 0,
      "outputs": []
    },
    {
      "cell_type": "code",
      "metadata": {
        "id": "wpb3IWIdTWFL",
        "colab_type": "code",
        "outputId": "6ce6511b-2983-40e0-e33b-8a76fdb21d84",
        "colab": {
          "base_uri": "https://localhost:8080/",
          "height": 160
        }
      },
      "source": [
        "model = Sequential()\n",
        "model.add(Dense(12, input_dim=8, activation='relu'))\n",
        "model.add(Dense(8, activation='relu'))\n",
        "model.add(Dense(1, activation='sigmoid'))"
      ],
      "execution_count": 0,
      "outputs": [
        {
          "output_type": "stream",
          "text": [
            "WARNING: Logging before flag parsing goes to stderr.\n",
            "W0714 07:06:35.408837 140505087825792 deprecation_wrapper.py:119] From /usr/local/lib/python3.6/dist-packages/keras/backend/tensorflow_backend.py:74: The name tf.get_default_graph is deprecated. Please use tf.compat.v1.get_default_graph instead.\n",
            "\n",
            "W0714 07:06:35.457054 140505087825792 deprecation_wrapper.py:119] From /usr/local/lib/python3.6/dist-packages/keras/backend/tensorflow_backend.py:517: The name tf.placeholder is deprecated. Please use tf.compat.v1.placeholder instead.\n",
            "\n",
            "W0714 07:06:35.464284 140505087825792 deprecation_wrapper.py:119] From /usr/local/lib/python3.6/dist-packages/keras/backend/tensorflow_backend.py:4138: The name tf.random_uniform is deprecated. Please use tf.random.uniform instead.\n",
            "\n"
          ],
          "name": "stderr"
        }
      ]
    },
    {
      "cell_type": "code",
      "metadata": {
        "id": "_9WJNqZgThOv",
        "colab_type": "code",
        "outputId": "85b9406b-5045-47b2-b90b-b33236a77d4e",
        "colab": {
          "base_uri": "https://localhost:8080/",
          "height": 160
        }
      },
      "source": [
        "model.compile(loss='binary_crossentropy', optimizer='adam', metrics=['accuracy'])"
      ],
      "execution_count": 0,
      "outputs": [
        {
          "output_type": "stream",
          "text": [
            "W0714 07:07:20.260887 140505087825792 deprecation_wrapper.py:119] From /usr/local/lib/python3.6/dist-packages/keras/optimizers.py:790: The name tf.train.Optimizer is deprecated. Please use tf.compat.v1.train.Optimizer instead.\n",
            "\n",
            "W0714 07:07:20.293224 140505087825792 deprecation_wrapper.py:119] From /usr/local/lib/python3.6/dist-packages/keras/backend/tensorflow_backend.py:3376: The name tf.log is deprecated. Please use tf.math.log instead.\n",
            "\n",
            "W0714 07:07:20.300068 140505087825792 deprecation.py:323] From /usr/local/lib/python3.6/dist-packages/tensorflow/python/ops/nn_impl.py:180: add_dispatch_support.<locals>.wrapper (from tensorflow.python.ops.array_ops) is deprecated and will be removed in a future version.\n",
            "Instructions for updating:\n",
            "Use tf.where in 2.0, which has the same broadcast rule as np.where\n"
          ],
          "name": "stderr"
        }
      ]
    },
    {
      "cell_type": "code",
      "metadata": {
        "id": "KU542ktoTn63",
        "colab_type": "code",
        "outputId": "36615301-9971-4dee-e0bf-39dc3bb090ba",
        "colab": {
          "base_uri": "https://localhost:8080/",
          "height": 1000
        }
      },
      "source": [
        "model.fit(X, y, epochs=150, batch_size=10)"
      ],
      "execution_count": 0,
      "outputs": [
        {
          "output_type": "stream",
          "text": [
            "W0714 07:07:40.696467 140505087825792 deprecation_wrapper.py:119] From /usr/local/lib/python3.6/dist-packages/keras/backend/tensorflow_backend.py:986: The name tf.assign_add is deprecated. Please use tf.compat.v1.assign_add instead.\n",
            "\n"
          ],
          "name": "stderr"
        },
        {
          "output_type": "stream",
          "text": [
            "Epoch 1/150\n",
            "768/768 [==============================] - 1s 1ms/step - loss: 2.1361 - acc: 0.5078\n",
            "Epoch 2/150\n",
            "768/768 [==============================] - 0s 115us/step - loss: 1.1019 - acc: 0.5156\n",
            "Epoch 3/150\n",
            "768/768 [==============================] - 0s 117us/step - loss: 0.8367 - acc: 0.6081\n",
            "Epoch 4/150\n",
            "768/768 [==============================] - 0s 122us/step - loss: 0.7596 - acc: 0.6523\n",
            "Epoch 5/150\n",
            "768/768 [==============================] - 0s 116us/step - loss: 0.7210 - acc: 0.6836\n",
            "Epoch 6/150\n",
            "768/768 [==============================] - 0s 115us/step - loss: 0.6701 - acc: 0.6849\n",
            "Epoch 7/150\n",
            "768/768 [==============================] - 0s 119us/step - loss: 0.6567 - acc: 0.6862\n",
            "Epoch 8/150\n",
            "768/768 [==============================] - 0s 121us/step - loss: 0.6485 - acc: 0.6953\n",
            "Epoch 9/150\n",
            "768/768 [==============================] - 0s 120us/step - loss: 0.6714 - acc: 0.6927\n",
            "Epoch 10/150\n",
            "768/768 [==============================] - 0s 119us/step - loss: 0.6466 - acc: 0.7031\n",
            "Epoch 11/150\n",
            "768/768 [==============================] - 0s 122us/step - loss: 0.6164 - acc: 0.7174\n",
            "Epoch 12/150\n",
            "768/768 [==============================] - 0s 121us/step - loss: 0.6122 - acc: 0.7174\n",
            "Epoch 13/150\n",
            "768/768 [==============================] - 0s 118us/step - loss: 0.6140 - acc: 0.7070\n",
            "Epoch 14/150\n",
            "768/768 [==============================] - 0s 120us/step - loss: 0.6159 - acc: 0.7031\n",
            "Epoch 15/150\n",
            "768/768 [==============================] - 0s 122us/step - loss: 0.5954 - acc: 0.7122\n",
            "Epoch 16/150\n",
            "768/768 [==============================] - 0s 116us/step - loss: 0.6068 - acc: 0.7148\n",
            "Epoch 17/150\n",
            "768/768 [==============================] - 0s 119us/step - loss: 0.6061 - acc: 0.7083\n",
            "Epoch 18/150\n",
            "768/768 [==============================] - 0s 127us/step - loss: 0.6086 - acc: 0.7161\n",
            "Epoch 19/150\n",
            "768/768 [==============================] - 0s 113us/step - loss: 0.5863 - acc: 0.7135\n",
            "Epoch 20/150\n",
            "768/768 [==============================] - 0s 121us/step - loss: 0.6406 - acc: 0.6914\n",
            "Epoch 21/150\n",
            "768/768 [==============================] - 0s 122us/step - loss: 0.5867 - acc: 0.6992\n",
            "Epoch 22/150\n",
            "768/768 [==============================] - 0s 122us/step - loss: 0.5974 - acc: 0.7005\n",
            "Epoch 23/150\n",
            "768/768 [==============================] - 0s 119us/step - loss: 0.5844 - acc: 0.7109\n",
            "Epoch 24/150\n",
            "768/768 [==============================] - 0s 122us/step - loss: 0.5665 - acc: 0.7240\n",
            "Epoch 25/150\n",
            "768/768 [==============================] - 0s 119us/step - loss: 0.5791 - acc: 0.7161\n",
            "Epoch 26/150\n",
            "768/768 [==============================] - 0s 118us/step - loss: 0.5816 - acc: 0.7057\n",
            "Epoch 27/150\n",
            "768/768 [==============================] - 0s 118us/step - loss: 0.5863 - acc: 0.7096\n",
            "Epoch 28/150\n",
            "768/768 [==============================] - 0s 115us/step - loss: 0.5857 - acc: 0.7031\n",
            "Epoch 29/150\n",
            "768/768 [==============================] - 0s 118us/step - loss: 0.5727 - acc: 0.7122\n",
            "Epoch 30/150\n",
            "768/768 [==============================] - 0s 123us/step - loss: 0.5875 - acc: 0.7044\n",
            "Epoch 31/150\n",
            "768/768 [==============================] - 0s 120us/step - loss: 0.5744 - acc: 0.7174\n",
            "Epoch 32/150\n",
            "768/768 [==============================] - 0s 119us/step - loss: 0.5727 - acc: 0.7253\n",
            "Epoch 33/150\n",
            "768/768 [==============================] - 0s 121us/step - loss: 0.6188 - acc: 0.6966\n",
            "Epoch 34/150\n",
            "768/768 [==============================] - 0s 117us/step - loss: 0.5785 - acc: 0.7188\n",
            "Epoch 35/150\n",
            "768/768 [==============================] - 0s 116us/step - loss: 0.6024 - acc: 0.7161\n",
            "Epoch 36/150\n",
            "768/768 [==============================] - 0s 116us/step - loss: 0.5766 - acc: 0.7083\n",
            "Epoch 37/150\n",
            "768/768 [==============================] - 0s 123us/step - loss: 0.5646 - acc: 0.7279\n",
            "Epoch 38/150\n",
            "768/768 [==============================] - 0s 119us/step - loss: 0.5891 - acc: 0.7279\n",
            "Epoch 39/150\n",
            "768/768 [==============================] - 0s 117us/step - loss: 0.5980 - acc: 0.7083\n",
            "Epoch 40/150\n",
            "768/768 [==============================] - 0s 124us/step - loss: 0.5634 - acc: 0.7240\n",
            "Epoch 41/150\n",
            "768/768 [==============================] - 0s 118us/step - loss: 0.5748 - acc: 0.7305\n",
            "Epoch 42/150\n",
            "768/768 [==============================] - 0s 119us/step - loss: 0.5597 - acc: 0.7240\n",
            "Epoch 43/150\n",
            "768/768 [==============================] - 0s 120us/step - loss: 0.5726 - acc: 0.7240\n",
            "Epoch 44/150\n",
            "768/768 [==============================] - 0s 118us/step - loss: 0.5783 - acc: 0.7148\n",
            "Epoch 45/150\n",
            "768/768 [==============================] - 0s 117us/step - loss: 0.5835 - acc: 0.7148\n",
            "Epoch 46/150\n",
            "768/768 [==============================] - 0s 120us/step - loss: 0.5644 - acc: 0.7240\n",
            "Epoch 47/150\n",
            "768/768 [==============================] - 0s 125us/step - loss: 0.5539 - acc: 0.7318\n",
            "Epoch 48/150\n",
            "768/768 [==============================] - 0s 117us/step - loss: 0.5643 - acc: 0.7344\n",
            "Epoch 49/150\n",
            "768/768 [==============================] - 0s 116us/step - loss: 0.5844 - acc: 0.7201\n",
            "Epoch 50/150\n",
            "768/768 [==============================] - 0s 115us/step - loss: 0.5613 - acc: 0.7148\n",
            "Epoch 51/150\n",
            "768/768 [==============================] - 0s 125us/step - loss: 0.5525 - acc: 0.7396\n",
            "Epoch 52/150\n",
            "768/768 [==============================] - 0s 116us/step - loss: 0.5675 - acc: 0.7161\n",
            "Epoch 53/150\n",
            "768/768 [==============================] - 0s 118us/step - loss: 0.5596 - acc: 0.7292\n",
            "Epoch 54/150\n",
            "768/768 [==============================] - 0s 121us/step - loss: 0.5943 - acc: 0.7201\n",
            "Epoch 55/150\n",
            "768/768 [==============================] - 0s 120us/step - loss: 0.5536 - acc: 0.7305\n",
            "Epoch 56/150\n",
            "768/768 [==============================] - 0s 122us/step - loss: 0.5742 - acc: 0.7240\n",
            "Epoch 57/150\n",
            "768/768 [==============================] - 0s 118us/step - loss: 0.5520 - acc: 0.7227\n",
            "Epoch 58/150\n",
            "768/768 [==============================] - 0s 123us/step - loss: 0.5607 - acc: 0.7357\n",
            "Epoch 59/150\n",
            "768/768 [==============================] - 0s 114us/step - loss: 0.5601 - acc: 0.7214\n",
            "Epoch 60/150\n",
            "768/768 [==============================] - 0s 118us/step - loss: 0.5643 - acc: 0.7292\n",
            "Epoch 61/150\n",
            "768/768 [==============================] - 0s 117us/step - loss: 0.6058 - acc: 0.7148\n",
            "Epoch 62/150\n",
            "768/768 [==============================] - 0s 124us/step - loss: 0.5435 - acc: 0.7539\n",
            "Epoch 63/150\n",
            "768/768 [==============================] - 0s 116us/step - loss: 0.5675 - acc: 0.7253\n",
            "Epoch 64/150\n",
            "768/768 [==============================] - 0s 117us/step - loss: 0.5515 - acc: 0.7331\n",
            "Epoch 65/150\n",
            "768/768 [==============================] - 0s 124us/step - loss: 0.5644 - acc: 0.7344\n",
            "Epoch 66/150\n",
            "768/768 [==============================] - 0s 118us/step - loss: 0.6128 - acc: 0.7135\n",
            "Epoch 67/150\n",
            "768/768 [==============================] - 0s 114us/step - loss: 0.5539 - acc: 0.7383\n",
            "Epoch 68/150\n",
            "768/768 [==============================] - 0s 134us/step - loss: 0.5489 - acc: 0.7396\n",
            "Epoch 69/150\n",
            "768/768 [==============================] - 0s 132us/step - loss: 0.5485 - acc: 0.7305\n",
            "Epoch 70/150\n",
            "768/768 [==============================] - 0s 119us/step - loss: 0.5451 - acc: 0.7331\n",
            "Epoch 71/150\n",
            "768/768 [==============================] - 0s 122us/step - loss: 0.5405 - acc: 0.7396\n",
            "Epoch 72/150\n",
            "768/768 [==============================] - 0s 126us/step - loss: 0.5740 - acc: 0.7240\n",
            "Epoch 73/150\n",
            "768/768 [==============================] - 0s 122us/step - loss: 0.5425 - acc: 0.7383\n",
            "Epoch 74/150\n",
            "768/768 [==============================] - 0s 122us/step - loss: 0.5333 - acc: 0.7474\n",
            "Epoch 75/150\n",
            "768/768 [==============================] - 0s 119us/step - loss: 0.5535 - acc: 0.7292\n",
            "Epoch 76/150\n",
            "768/768 [==============================] - 0s 137us/step - loss: 0.5510 - acc: 0.7318\n",
            "Epoch 77/150\n",
            "768/768 [==============================] - 0s 122us/step - loss: 0.5450 - acc: 0.7318\n",
            "Epoch 78/150\n",
            "768/768 [==============================] - 0s 118us/step - loss: 0.5312 - acc: 0.7513\n",
            "Epoch 79/150\n",
            "768/768 [==============================] - 0s 123us/step - loss: 0.5975 - acc: 0.7122\n",
            "Epoch 80/150\n",
            "768/768 [==============================] - 0s 118us/step - loss: 0.5386 - acc: 0.7422\n",
            "Epoch 81/150\n",
            "768/768 [==============================] - 0s 121us/step - loss: 0.5437 - acc: 0.7448\n",
            "Epoch 82/150\n",
            "768/768 [==============================] - 0s 127us/step - loss: 0.5587 - acc: 0.7318\n",
            "Epoch 83/150\n",
            "768/768 [==============================] - 0s 127us/step - loss: 0.5329 - acc: 0.7422\n",
            "Epoch 84/150\n",
            "768/768 [==============================] - 0s 123us/step - loss: 0.5508 - acc: 0.7135\n",
            "Epoch 85/150\n",
            "768/768 [==============================] - 0s 121us/step - loss: 0.5631 - acc: 0.7305\n",
            "Epoch 86/150\n",
            "768/768 [==============================] - 0s 129us/step - loss: 0.5338 - acc: 0.7383\n",
            "Epoch 87/150\n",
            "768/768 [==============================] - 0s 124us/step - loss: 0.5322 - acc: 0.7383\n",
            "Epoch 88/150\n",
            "768/768 [==============================] - 0s 128us/step - loss: 0.5514 - acc: 0.7253\n",
            "Epoch 89/150\n",
            "768/768 [==============================] - 0s 125us/step - loss: 0.5509 - acc: 0.7344\n",
            "Epoch 90/150\n",
            "768/768 [==============================] - 0s 124us/step - loss: 0.5316 - acc: 0.7344\n",
            "Epoch 91/150\n",
            "768/768 [==============================] - 0s 127us/step - loss: 0.5369 - acc: 0.7448\n",
            "Epoch 92/150\n",
            "768/768 [==============================] - 0s 126us/step - loss: 0.5584 - acc: 0.7292\n",
            "Epoch 93/150\n",
            "768/768 [==============================] - 0s 123us/step - loss: 0.5578 - acc: 0.7279\n",
            "Epoch 94/150\n",
            "768/768 [==============================] - 0s 116us/step - loss: 0.5234 - acc: 0.7331\n",
            "Epoch 95/150\n",
            "768/768 [==============================] - 0s 124us/step - loss: 0.5396 - acc: 0.7344\n",
            "Epoch 96/150\n",
            "768/768 [==============================] - 0s 125us/step - loss: 0.5449 - acc: 0.7318\n",
            "Epoch 97/150\n",
            "768/768 [==============================] - 0s 120us/step - loss: 0.5317 - acc: 0.7422\n",
            "Epoch 98/150\n",
            "768/768 [==============================] - 0s 116us/step - loss: 0.5590 - acc: 0.7344\n",
            "Epoch 99/150\n",
            "768/768 [==============================] - 0s 122us/step - loss: 0.5304 - acc: 0.7396\n",
            "Epoch 100/150\n",
            "768/768 [==============================] - 0s 121us/step - loss: 0.5416 - acc: 0.7201\n",
            "Epoch 101/150\n",
            "768/768 [==============================] - 0s 118us/step - loss: 0.5616 - acc: 0.7383\n",
            "Epoch 102/150\n",
            "768/768 [==============================] - 0s 123us/step - loss: 0.5295 - acc: 0.7357\n",
            "Epoch 103/150\n",
            "768/768 [==============================] - 0s 119us/step - loss: 0.5444 - acc: 0.7305\n",
            "Epoch 104/150\n",
            "768/768 [==============================] - 0s 127us/step - loss: 0.5357 - acc: 0.7370\n",
            "Epoch 105/150\n",
            "768/768 [==============================] - 0s 124us/step - loss: 0.5294 - acc: 0.7500\n",
            "Epoch 106/150\n",
            "768/768 [==============================] - 0s 128us/step - loss: 0.5389 - acc: 0.7344\n",
            "Epoch 107/150\n",
            "768/768 [==============================] - 0s 118us/step - loss: 0.5319 - acc: 0.7383\n",
            "Epoch 108/150\n",
            "768/768 [==============================] - 0s 122us/step - loss: 0.5379 - acc: 0.7357\n",
            "Epoch 109/150\n",
            "768/768 [==============================] - 0s 120us/step - loss: 0.5137 - acc: 0.7422\n",
            "Epoch 110/150\n",
            "768/768 [==============================] - 0s 121us/step - loss: 0.5280 - acc: 0.7396\n",
            "Epoch 111/150\n",
            "768/768 [==============================] - 0s 119us/step - loss: 0.5223 - acc: 0.7487\n",
            "Epoch 112/150\n",
            "768/768 [==============================] - 0s 122us/step - loss: 0.5336 - acc: 0.7435\n",
            "Epoch 113/150\n",
            "768/768 [==============================] - 0s 127us/step - loss: 0.5167 - acc: 0.7513\n",
            "Epoch 114/150\n",
            "768/768 [==============================] - 0s 122us/step - loss: 0.5180 - acc: 0.7552\n",
            "Epoch 115/150\n",
            "768/768 [==============================] - 0s 125us/step - loss: 0.5161 - acc: 0.7578\n",
            "Epoch 116/150\n",
            "768/768 [==============================] - 0s 129us/step - loss: 0.5498 - acc: 0.7396\n",
            "Epoch 117/150\n",
            "768/768 [==============================] - 0s 128us/step - loss: 0.5198 - acc: 0.7487\n",
            "Epoch 118/150\n",
            "768/768 [==============================] - 0s 124us/step - loss: 0.5359 - acc: 0.7409\n",
            "Epoch 119/150\n",
            "768/768 [==============================] - 0s 129us/step - loss: 0.5256 - acc: 0.7591\n",
            "Epoch 120/150\n",
            "768/768 [==============================] - 0s 127us/step - loss: 0.5391 - acc: 0.7370\n",
            "Epoch 121/150\n",
            "768/768 [==============================] - 0s 121us/step - loss: 0.5249 - acc: 0.7435\n",
            "Epoch 122/150\n",
            "768/768 [==============================] - 0s 126us/step - loss: 0.5098 - acc: 0.7604\n",
            "Epoch 123/150\n",
            "768/768 [==============================] - 0s 120us/step - loss: 0.5130 - acc: 0.7526\n",
            "Epoch 124/150\n",
            "768/768 [==============================] - 0s 122us/step - loss: 0.5167 - acc: 0.7552\n",
            "Epoch 125/150\n",
            "768/768 [==============================] - 0s 123us/step - loss: 0.5379 - acc: 0.7357\n",
            "Epoch 126/150\n",
            "768/768 [==============================] - 0s 125us/step - loss: 0.5329 - acc: 0.7383\n",
            "Epoch 127/150\n",
            "768/768 [==============================] - 0s 121us/step - loss: 0.5134 - acc: 0.7643\n",
            "Epoch 128/150\n",
            "768/768 [==============================] - 0s 118us/step - loss: 0.5407 - acc: 0.7370\n",
            "Epoch 129/150\n",
            "768/768 [==============================] - 0s 124us/step - loss: 0.5399 - acc: 0.7383\n",
            "Epoch 130/150\n",
            "768/768 [==============================] - 0s 122us/step - loss: 0.5450 - acc: 0.7292\n",
            "Epoch 131/150\n",
            "768/768 [==============================] - 0s 117us/step - loss: 0.5435 - acc: 0.7409\n",
            "Epoch 132/150\n",
            "768/768 [==============================] - 0s 117us/step - loss: 0.5050 - acc: 0.7526\n",
            "Epoch 133/150\n",
            "768/768 [==============================] - 0s 120us/step - loss: 0.5206 - acc: 0.7539\n",
            "Epoch 134/150\n",
            "768/768 [==============================] - 0s 118us/step - loss: 0.5176 - acc: 0.7526\n",
            "Epoch 135/150\n",
            "768/768 [==============================] - 0s 122us/step - loss: 0.5152 - acc: 0.7539\n",
            "Epoch 136/150\n",
            "768/768 [==============================] - 0s 125us/step - loss: 0.5240 - acc: 0.7617\n",
            "Epoch 137/150\n",
            "768/768 [==============================] - 0s 124us/step - loss: 0.5192 - acc: 0.7487\n",
            "Epoch 138/150\n",
            "768/768 [==============================] - 0s 123us/step - loss: 0.5283 - acc: 0.7448\n",
            "Epoch 139/150\n",
            "768/768 [==============================] - 0s 119us/step - loss: 0.5040 - acc: 0.7552\n",
            "Epoch 140/150\n",
            "768/768 [==============================] - 0s 123us/step - loss: 0.5026 - acc: 0.7630\n",
            "Epoch 141/150\n",
            "768/768 [==============================] - 0s 122us/step - loss: 0.5114 - acc: 0.7435\n",
            "Epoch 142/150\n",
            "768/768 [==============================] - 0s 121us/step - loss: 0.5007 - acc: 0.7617\n",
            "Epoch 143/150\n",
            "768/768 [==============================] - 0s 124us/step - loss: 0.5029 - acc: 0.7552\n",
            "Epoch 144/150\n",
            "768/768 [==============================] - 0s 123us/step - loss: 0.5117 - acc: 0.7565\n",
            "Epoch 145/150\n",
            "768/768 [==============================] - 0s 119us/step - loss: 0.5127 - acc: 0.7487\n",
            "Epoch 146/150\n",
            "768/768 [==============================] - 0s 125us/step - loss: 0.5099 - acc: 0.7539\n",
            "Epoch 147/150\n",
            "768/768 [==============================] - 0s 118us/step - loss: 0.5114 - acc: 0.7539\n",
            "Epoch 148/150\n",
            "768/768 [==============================] - 0s 119us/step - loss: 0.5339 - acc: 0.7396\n",
            "Epoch 149/150\n",
            "768/768 [==============================] - 0s 123us/step - loss: 0.5045 - acc: 0.7409\n",
            "Epoch 150/150\n",
            "768/768 [==============================] - 0s 120us/step - loss: 0.5342 - acc: 0.7565\n"
          ],
          "name": "stdout"
        },
        {
          "output_type": "execute_result",
          "data": {
            "text/plain": [
              "<keras.callbacks.History at 0x7fc9aa326588>"
            ]
          },
          "metadata": {
            "tags": []
          },
          "execution_count": 15
        }
      ]
    },
    {
      "cell_type": "code",
      "metadata": {
        "id": "2Ouji6zdTwQT",
        "colab_type": "code",
        "outputId": "16418087-df82-435f-ae4a-d9c181dafaec",
        "colab": {
          "base_uri": "https://localhost:8080/",
          "height": 52
        }
      },
      "source": [
        "_, accuracy = model.evaluate(X, y)\n",
        "print('Accuracy: %.2f' % (accuracy*100))"
      ],
      "execution_count": 0,
      "outputs": [
        {
          "output_type": "stream",
          "text": [
            "768/768 [==============================] - 0s 65us/step\n",
            "Accuracy: 72.53\n"
          ],
          "name": "stdout"
        }
      ]
    },
    {
      "cell_type": "code",
      "metadata": {
        "id": "Juc19m3nUCDj",
        "colab_type": "code",
        "outputId": "381b9f36-3e58-4a59-c378-12c93b86621e",
        "colab": {
          "base_uri": "https://localhost:8080/",
          "height": 105
        }
      },
      "source": [
        "predictions = model.predict_classes(X)\n",
        "# summarize the first 5 cases\n",
        "for i in range(5):\n",
        "\tprint('%s => %d (expected %d)' % (X.loc[i].tolist(), predictions[i], y[i]))"
      ],
      "execution_count": 0,
      "outputs": [
        {
          "output_type": "stream",
          "text": [
            "[6.0, 148.0, 72.0, 35.0, 0.0, 33.6, 0.627, 50.0] => 1 (expected 1)\n",
            "[1.0, 85.0, 66.0, 29.0, 0.0, 26.6, 0.35100000000000003, 31.0] => 0 (expected 0)\n",
            "[8.0, 183.0, 64.0, 0.0, 0.0, 23.3, 0.672, 32.0] => 1 (expected 1)\n",
            "[1.0, 89.0, 66.0, 23.0, 94.0, 28.1, 0.16699999999999998, 21.0] => 0 (expected 0)\n",
            "[0.0, 137.0, 40.0, 35.0, 168.0, 43.1, 2.2880000000000003, 33.0] => 0 (expected 1)\n"
          ],
          "name": "stdout"
        }
      ]
    },
    {
      "cell_type": "code",
      "metadata": {
        "id": "FxUnVbbHU13W",
        "colab_type": "code",
        "outputId": "02cfc8d6-898b-4c6d-f849-928d8dc46fc0",
        "colab": {
          "base_uri": "https://localhost:8080/",
          "height": 263
        }
      },
      "source": [
        "print(model.summary())"
      ],
      "execution_count": 0,
      "outputs": [
        {
          "output_type": "stream",
          "text": [
            "_________________________________________________________________\n",
            "Layer (type)                 Output Shape              Param #   \n",
            "=================================================================\n",
            "dense_1 (Dense)              (None, 12)                108       \n",
            "_________________________________________________________________\n",
            "dense_2 (Dense)              (None, 8)                 104       \n",
            "_________________________________________________________________\n",
            "dense_3 (Dense)              (None, 1)                 9         \n",
            "=================================================================\n",
            "Total params: 221\n",
            "Trainable params: 221\n",
            "Non-trainable params: 0\n",
            "_________________________________________________________________\n",
            "None\n"
          ],
          "name": "stdout"
        }
      ]
    },
    {
      "cell_type": "code",
      "metadata": {
        "id": "54PChr74U4TA",
        "colab_type": "code",
        "outputId": "6ba3b7d1-5a47-473d-f663-195c5d70dd53",
        "colab": {
          "base_uri": "https://localhost:8080/",
          "height": 213
        }
      },
      "source": [
        "plot_model(model, show_shapes=True, show_layer_names=True, to_file='model.png')\n",
        "from IPython.display import Image\n",
        "Image(retina=True, filename='model.png')"
      ],
      "execution_count": 0,
      "outputs": [
        {
          "output_type": "execute_result",
          "data": {
            "image/png": "[encoded data removed]",
            "text/plain": [
              "<IPython.core.display.Image object>"
            ]
          },
          "metadata": {
            "tags": [],
            "image/png": {
              "width": 168,
              "height": 196
            }
          },
          "execution_count": 20
        }
      ]
    }
  ]
}